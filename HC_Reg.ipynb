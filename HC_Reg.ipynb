{
  "cells": [
    {
      "cell_type": "markdown",
      "metadata": {
        "id": "view-in-github",
        "colab_type": "text"
      },
      "source": [
        "<a href=\"https://colab.research.google.com/github/swet-s/HC_Reg/blob/main/HC_Reg.ipynb\" target=\"_parent\"><img src=\"https://colab.research.google.com/assets/colab-badge.svg\" alt=\"Open In Colab\"/></a>"
      ]
    },
    {
      "cell_type": "code",
      "execution_count": null,
      "metadata": {
        "colab": {
          "base_uri": "https://localhost:8080/"
        },
        "id": "4Zx7B5dwKIOL",
        "outputId": "84e0198f-7f0d-430c-d479-e9960596bd49"
      },
      "outputs": [
        {
          "name": "stdout",
          "output_type": "stream",
          "text": [
            "Drive already mounted at /content/drive; to attempt to forcibly remount, call drive.mount(\"/content/drive\", force_remount=True).\n"
          ]
        }
      ],
      "source": [
        "from google.colab import drive\n",
        "drive.mount('/content/drive')"
      ]
    },
    {
      "cell_type": "markdown",
      "metadata": {
        "id": "1DaNecm-cSZQ"
      },
      "source": [
        "#Downloading images and pixel size sheet"
      ]
    },
    {
      "cell_type": "code",
      "execution_count": null,
      "metadata": {
        "id": "s_tQH4DHxhQx"
      },
      "outputs": [],
      "source": [
        "# Install the PyDrive wrapper & import libraries.\n",
        "# This only needs to be done once per notebook.\n",
        "!pip install -U -q PyDrive\n",
        "\n",
        "\n",
        "from pydrive.auth import GoogleAuth\n",
        "from pydrive.drive import GoogleDrive\n",
        "from google.colab import auth\n",
        "from oauth2client.client import GoogleCredentials\n",
        "\n",
        "# Authenticate and create the PyDrive client.\n",
        "# This only needs to be done once per notebook.\n",
        "auth.authenticate_user()\n",
        "gauth = GoogleAuth()\n",
        "gauth.credentials = GoogleCredentials.get_application_default()\n",
        "drive = GoogleDrive(gauth)"
      ]
    },
    {
      "cell_type": "code",
      "execution_count": null,
      "metadata": {
        "id": "m76aApkMzxtu"
      },
      "outputs": [],
      "source": [
        "# Download a file based on its file ID.\n",
        "#\n",
        "# A file ID looks like: laggVyWshwcyP6kEI-y_W3P8D26sz\n",
        "# download link: https://drive.google.com/file/d/1nx8oTD1mdhB9e19xAZQYsdgOPt-4QUvl/view?usp=sharing\n",
        "file_id_1 = '1nx8oTD1mdhB9e19xAZQYsdgOPt-4QUvl'  \n",
        "downloaded_1 = drive.CreateFile({'id': file_id_1}) \n",
        "\n",
        "# download link: https://drive.google.com/file/d/1OSrIuKWasvLss0Ewbx5EyTEPKSQ1nM6k/view?usp=sharing\n",
        "file_id_2 = '1OSrIuKWasvLss0Ewbx5EyTEPKSQ1nM6k'  \n",
        "downloaded_2 = drive.CreateFile({'id': file_id_2})\n",
        "\n",
        "# download link: https://drive.google.com/file/d/1dNPGG7FeI3vOC6lFsRhLdt4IrpIj1enH/view?usp=sharing\n",
        "file_id_3 = '1dNPGG7FeI3vOC6lFsRhLdt4IrpIj1enH' \n",
        "downloaded_3 = drive.CreateFile({'id': file_id_3})"
      ]
    },
    {
      "cell_type": "code",
      "execution_count": null,
      "metadata": {
        "colab": {
          "base_uri": "https://localhost:8080/"
        },
        "id": "86Od6mjaPeRz",
        "outputId": "146b0c97-ff01-4ea8-e38d-880cbbe95810"
      },
      "outputs": [
        {
          "name": "stdout",
          "output_type": "stream",
          "text": [
            "rm: cannot remove 'train.zip': No such file or directory\n",
            "rm: cannot remove 'test.zip': No such file or directory\n",
            "rm: cannot remove 'test_set_pixel_size.csv': No such file or directory\n"
          ]
        }
      ],
      "source": [
        "!rm -r train.zip\n",
        "!rm -r test.zip\n",
        "!rm -r test_set_pixel_size.csv"
      ]
    },
    {
      "cell_type": "code",
      "execution_count": null,
      "metadata": {
        "colab": {
          "base_uri": "https://localhost:8080/"
        },
        "id": "ugRpTTqP0BwW",
        "outputId": "9bafc143-3451-4c29-e55f-3d908bb88c15"
      },
      "outputs": [
        {
          "name": "stdout",
          "output_type": "stream",
          "text": [
            "Archive:  train.zip\n",
            "replace train/002_HC_Mask.png? [y]es, [n]o, [A]ll, [N]one, [r]ename: N\n",
            "Archive:  test.zip\n",
            "replace test/000_HC.png? [y]es, [n]o, [A]ll, [N]one, [r]ename: N\n"
          ]
        }
      ],
      "source": [
        "downloaded_1.GetContentFile('train.zip')\n",
        "downloaded_2.GetContentFile('test.zip')\n",
        "downloaded_3.GetContentFile('test_set_pixel_size.csv')\n",
        "\n",
        "!unzip train.zip\n",
        "!unzip test.zip"
      ]
    },
    {
      "cell_type": "markdown",
      "metadata": {
        "id": "yBQ6MnRa32JX"
      },
      "source": [
        "#Downloading trained model"
      ]
    },
    {
      "cell_type": "code",
      "execution_count": null,
      "metadata": {
        "id": "VKndYCuDP_DP"
      },
      "outputs": [],
      "source": [
        "!rm -r mlruns"
      ]
    },
    {
      "cell_type": "code",
      "execution_count": null,
      "metadata": {
        "id": "4N1aM-qK0tfk"
      },
      "outputs": [],
      "source": [
        "# download link: https://drive.google.com/file/d/1-JCnON0FHDQO1hym_9PH4DijLSFL9jCY/view?usp=sharing \n",
        "file_id_mlruns = '1-JCnON0FHDQO1hym_9PH4DijLSFL9jCY'  \n",
        "downloaded_mlruns = drive.CreateFile({'id': file_id_mlruns})\n",
        "\n",
        "downloaded_mlruns.GetContentFile('mlruns.zip')\n",
        "\n",
        "!unzip mlruns.zip"
      ]
    },
    {
      "cell_type": "markdown",
      "metadata": {
        "id": "_wCeat0oc6CO"
      },
      "source": [
        "#Importing libraries and setting up GPU"
      ]
    },
    {
      "cell_type": "code",
      "execution_count": null,
      "metadata": {
        "colab": {
          "base_uri": "https://localhost:8080/"
        },
        "id": "zdvvKllF1DmZ",
        "outputId": "bfe7a38c-95cd-4d1d-c9f5-b7790aab3e94"
      },
      "outputs": [
        {
          "name": "stdout",
          "output_type": "stream",
          "text": [
            "Looking in indexes: https://pypi.org/simple, https://us-python.pkg.dev/colab-wheels/public/simple/\n",
            "Requirement already satisfied: mlflow in /usr/local/lib/python3.8/dist-packages (2.0.1)\n",
            "Requirement already satisfied: pyyaml<7,>=5.1 in /usr/local/lib/python3.8/dist-packages (from mlflow) (6.0)\n",
            "Requirement already satisfied: sqlalchemy<2,>=1.4.0 in /usr/local/lib/python3.8/dist-packages (from mlflow) (1.4.44)\n",
            "Requirement already satisfied: docker<7,>=4.0.0 in /usr/local/lib/python3.8/dist-packages (from mlflow) (6.0.1)\n",
            "Requirement already satisfied: numpy<2 in /usr/local/lib/python3.8/dist-packages (from mlflow) (1.21.6)\n",
            "Requirement already satisfied: scikit-learn<2 in /usr/local/lib/python3.8/dist-packages (from mlflow) (1.0.2)\n",
            "Requirement already satisfied: sqlparse<1,>=0.4.0 in /usr/local/lib/python3.8/dist-packages (from mlflow) (0.4.3)\n",
            "Requirement already satisfied: querystring-parser<2 in /usr/local/lib/python3.8/dist-packages (from mlflow) (1.2.4)\n",
            "Requirement already satisfied: click<9,>=7.0 in /usr/local/lib/python3.8/dist-packages (from mlflow) (7.1.2)\n",
            "Requirement already satisfied: pandas<2 in /usr/local/lib/python3.8/dist-packages (from mlflow) (1.3.5)\n",
            "Requirement already satisfied: alembic<2 in /usr/local/lib/python3.8/dist-packages (from mlflow) (1.8.1)\n",
            "Requirement already satisfied: Flask<3 in /usr/local/lib/python3.8/dist-packages (from mlflow) (1.1.4)\n",
            "Requirement already satisfied: scipy<2 in /usr/local/lib/python3.8/dist-packages (from mlflow) (1.7.3)\n",
            "Requirement already satisfied: importlib-metadata!=4.7.0,<6,>=3.7.0 in /usr/local/lib/python3.8/dist-packages (from mlflow) (4.13.0)\n",
            "Requirement already satisfied: pytz<2023 in /usr/local/lib/python3.8/dist-packages (from mlflow) (2022.6)\n",
            "Requirement already satisfied: databricks-cli<1,>=0.8.7 in /usr/local/lib/python3.8/dist-packages (from mlflow) (0.17.4)\n",
            "Requirement already satisfied: pyarrow<11,>=4.0.0 in /usr/local/lib/python3.8/dist-packages (from mlflow) (9.0.0)\n",
            "Requirement already satisfied: requests<3,>=2.17.3 in /usr/local/lib/python3.8/dist-packages (from mlflow) (2.28.1)\n",
            "Requirement already satisfied: packaging<22 in /usr/local/lib/python3.8/dist-packages (from mlflow) (21.3)\n",
            "Requirement already satisfied: Jinja2<4,>=2.11 in /usr/local/lib/python3.8/dist-packages (from mlflow) (2.11.3)\n",
            "Requirement already satisfied: matplotlib<4 in /usr/local/lib/python3.8/dist-packages (from mlflow) (3.2.2)\n",
            "Requirement already satisfied: entrypoints<1 in /usr/local/lib/python3.8/dist-packages (from mlflow) (0.4)\n",
            "Requirement already satisfied: cloudpickle<3 in /usr/local/lib/python3.8/dist-packages (from mlflow) (1.5.0)\n",
            "Requirement already satisfied: gitpython<4,>=2.1.0 in /usr/local/lib/python3.8/dist-packages (from mlflow) (3.1.29)\n",
            "Requirement already satisfied: shap<1,>=0.40 in /usr/local/lib/python3.8/dist-packages (from mlflow) (0.41.0)\n",
            "Requirement already satisfied: markdown<4,>=3.3 in /usr/local/lib/python3.8/dist-packages (from mlflow) (3.4.1)\n",
            "Requirement already satisfied: gunicorn<21 in /usr/local/lib/python3.8/dist-packages (from mlflow) (20.1.0)\n",
            "Requirement already satisfied: protobuf<5,>=3.12.0 in /usr/local/lib/python3.8/dist-packages (from mlflow) (3.19.6)\n",
            "Requirement already satisfied: importlib-resources in /usr/local/lib/python3.8/dist-packages (from alembic<2->mlflow) (5.10.0)\n",
            "Requirement already satisfied: Mako in /usr/local/lib/python3.8/dist-packages (from alembic<2->mlflow) (1.2.4)\n",
            "Requirement already satisfied: six>=1.10.0 in /usr/local/lib/python3.8/dist-packages (from databricks-cli<1,>=0.8.7->mlflow) (1.15.0)\n",
            "Requirement already satisfied: oauthlib>=3.1.0 in /usr/local/lib/python3.8/dist-packages (from databricks-cli<1,>=0.8.7->mlflow) (3.2.2)\n",
            "Requirement already satisfied: tabulate>=0.7.7 in /usr/local/lib/python3.8/dist-packages (from databricks-cli<1,>=0.8.7->mlflow) (0.8.10)\n",
            "Requirement already satisfied: pyjwt>=1.7.0 in /usr/local/lib/python3.8/dist-packages (from databricks-cli<1,>=0.8.7->mlflow) (2.6.0)\n",
            "Requirement already satisfied: urllib3>=1.26.0 in /usr/local/lib/python3.8/dist-packages (from docker<7,>=4.0.0->mlflow) (1.26.13)\n",
            "Requirement already satisfied: websocket-client>=0.32.0 in /usr/local/lib/python3.8/dist-packages (from docker<7,>=4.0.0->mlflow) (1.4.2)\n",
            "Requirement already satisfied: itsdangerous<2.0,>=0.24 in /usr/local/lib/python3.8/dist-packages (from Flask<3->mlflow) (1.1.0)\n",
            "Requirement already satisfied: Werkzeug<2.0,>=0.15 in /usr/local/lib/python3.8/dist-packages (from Flask<3->mlflow) (1.0.1)\n",
            "Requirement already satisfied: gitdb<5,>=4.0.1 in /usr/local/lib/python3.8/dist-packages (from gitpython<4,>=2.1.0->mlflow) (4.0.10)\n",
            "Requirement already satisfied: smmap<6,>=3.0.1 in /usr/local/lib/python3.8/dist-packages (from gitdb<5,>=4.0.1->gitpython<4,>=2.1.0->mlflow) (5.0.0)\n",
            "Requirement already satisfied: setuptools>=3.0 in /usr/local/lib/python3.8/dist-packages (from gunicorn<21->mlflow) (57.4.0)\n",
            "Requirement already satisfied: zipp>=0.5 in /usr/local/lib/python3.8/dist-packages (from importlib-metadata!=4.7.0,<6,>=3.7.0->mlflow) (3.11.0)\n",
            "Requirement already satisfied: MarkupSafe>=0.23 in /usr/local/lib/python3.8/dist-packages (from Jinja2<4,>=2.11->mlflow) (2.0.1)\n",
            "Requirement already satisfied: pyparsing!=2.0.4,!=2.1.2,!=2.1.6,>=2.0.1 in /usr/local/lib/python3.8/dist-packages (from matplotlib<4->mlflow) (3.0.9)\n",
            "Requirement already satisfied: cycler>=0.10 in /usr/local/lib/python3.8/dist-packages (from matplotlib<4->mlflow) (0.11.0)\n",
            "Requirement already satisfied: kiwisolver>=1.0.1 in /usr/local/lib/python3.8/dist-packages (from matplotlib<4->mlflow) (1.4.4)\n",
            "Requirement already satisfied: python-dateutil>=2.1 in /usr/local/lib/python3.8/dist-packages (from matplotlib<4->mlflow) (2.8.2)\n",
            "Requirement already satisfied: charset-normalizer<3,>=2 in /usr/local/lib/python3.8/dist-packages (from requests<3,>=2.17.3->mlflow) (2.1.1)\n",
            "Requirement already satisfied: certifi>=2017.4.17 in /usr/local/lib/python3.8/dist-packages (from requests<3,>=2.17.3->mlflow) (2022.9.24)\n",
            "Requirement already satisfied: idna<4,>=2.5 in /usr/local/lib/python3.8/dist-packages (from requests<3,>=2.17.3->mlflow) (2.10)\n",
            "Requirement already satisfied: joblib>=0.11 in /usr/local/lib/python3.8/dist-packages (from scikit-learn<2->mlflow) (1.2.0)\n",
            "Requirement already satisfied: threadpoolctl>=2.0.0 in /usr/local/lib/python3.8/dist-packages (from scikit-learn<2->mlflow) (3.1.0)\n",
            "Requirement already satisfied: slicer==0.0.7 in /usr/local/lib/python3.8/dist-packages (from shap<1,>=0.40->mlflow) (0.0.7)\n",
            "Requirement already satisfied: numba in /usr/local/lib/python3.8/dist-packages (from shap<1,>=0.40->mlflow) (0.56.4)\n",
            "Requirement already satisfied: tqdm>4.25.0 in /usr/local/lib/python3.8/dist-packages (from shap<1,>=0.40->mlflow) (4.64.1)\n",
            "Requirement already satisfied: greenlet!=0.4.17 in /usr/local/lib/python3.8/dist-packages (from sqlalchemy<2,>=1.4.0->mlflow) (2.0.1)\n",
            "Requirement already satisfied: llvmlite<0.40,>=0.39.0dev0 in /usr/local/lib/python3.8/dist-packages (from numba->shap<1,>=0.40->mlflow) (0.39.1)\n"
          ]
        }
      ],
      "source": [
        "!pip install mlflow"
      ]
    },
    {
      "cell_type": "code",
      "execution_count": null,
      "metadata": {
        "id": "hJj93iJw1QVY"
      },
      "outputs": [],
      "source": [
        "import os\n",
        "from PIL import Image\n",
        "import matplotlib.pyplot as plt\n",
        "from tqdm import tqdm_notebook \n",
        "import copy\n",
        "import glob\n",
        "\n",
        "import torch\n",
        "import torchvision\n",
        "from torch.utils.data import DataLoader, Dataset, random_split\n",
        "import torchvision.transforms as transforms\n",
        "from torchvision import datasets\n",
        "\n",
        "import torch.nn as nn\n",
        "import torch.nn.functional as F\n",
        "import torch.optim as optim\n",
        "\n",
        "import numpy as np\n",
        "import pandas as pd\n",
        "\n",
        "import mlflow\n",
        "import mlflow.pytorch\n",
        "\n",
        "import cv2"
      ]
    },
    {
      "cell_type": "code",
      "execution_count": null,
      "metadata": {
        "colab": {
          "base_uri": "https://localhost:8080/"
        },
        "id": "7pBgezJd1bmw",
        "outputId": "7627c27f-0437-4eca-99d4-38c9b217e120"
      },
      "outputs": [
        {
          "name": "stdout",
          "output_type": "stream",
          "text": [
            "cpu\n"
          ]
        }
      ],
      "source": [
        "device = torch.device(\"cuda:0\" if torch.cuda.is_available() else \"cpu\")\n",
        "print(device)"
      ]
    },
    {
      "cell_type": "markdown",
      "metadata": {
        "id": "-cY7SNU-dajT"
      },
      "source": [
        "#Mask generation for annotated images"
      ]
    },
    {
      "cell_type": "code",
      "execution_count": null,
      "metadata": {
        "id": "PopPSdQb1gWT"
      },
      "outputs": [],
      "source": [
        "def mask_generator(source_file_path, dest_file_path):\n",
        "    file_names = sorted([file for _,_,files in os.walk(source_file_path) for file in files])\n",
        "    for i, file_name in enumerate(file_names):\n",
        "        if i % 2 != 0:\n",
        "            im = cv2.imread(source_file_path+file_name)\n",
        "            imgray = cv2.cvtColor(im,cv2.COLOR_BGR2GRAY)\n",
        "            ret,thresh = cv2.threshold(imgray,127,255,0)\n",
        "            im2, contours, hierarchy = cv2.findContours(thresh,cv2.RETR_TREE,cv2.CHAIN_APPROX_SIMPLE)\n",
        "            ellipse = cv2.fitEllipse(contours[0])\n",
        "            im1 = cv2.ellipse(im,ellipse,(255,255,255),-1)\n",
        "            image_name = file_name.replace('Annotation', 'Mask')\n",
        "            cv2.imwrite(dest_file_path+image_name, im1)\n",
        "    \n",
        "    return 1"
      ]
    },
    {
      "cell_type": "markdown",
      "metadata": {
        "id": "ZXSLycdOdQX0"
      },
      "source": [
        "#Dataloader"
      ]
    },
    {
      "cell_type": "code",
      "execution_count": null,
      "metadata": {
        "id": "bRB_evW7p3Ao"
      },
      "outputs": [],
      "source": [
        "#For converting the dataset to torchvision dataset format\n",
        "class HC18Dataset(Dataset):\n",
        "    def __init__(self, file_path,train=True):        \n",
        "        self.file_path = file_path\n",
        "        self.train = train\n",
        "        if self.train:\n",
        "            self.transform_x = transforms.Compose([\n",
        "                transforms.Resize((432, 640)), \n",
        "                transforms.ToTensor(),\n",
        "                transforms.Normalize((0.5,), (0.5,))\n",
        "            ])\n",
        "            self.transform_y = transforms.Compose([\n",
        "                    transforms.Resize((432, 640)), \n",
        "                    transforms.ToTensor()\n",
        "            ])\n",
        "            self.X_train_file_names = []\n",
        "            self.Y_train_file_names = []\n",
        "            file_names = sorted([file for _,_,files in os.walk(self.file_path) for file in files])\n",
        "            for i, file_name in enumerate(file_names):\n",
        "                if i % 2 == 0:\n",
        "                    self.X_train_file_names.append(file_name)\n",
        "                else:\n",
        "                    self.Y_train_file_names.append(file_name)\n",
        "            self.len = len(self.X_train_file_names)\n",
        "            \n",
        "        else:\n",
        "            self.transform_x = transforms.Compose([\n",
        "                transforms.Resize((432, 640)),\n",
        "                transforms.ToTensor(),\n",
        "                transforms.Normalize((0.5,), (0.5,))\n",
        "            ])\n",
        "            self.X_test_file_names = sorted([file for _,_,files in os.walk(self.file_path) for file in files])\n",
        "            self.len = len(self.X_test_file_names)\n",
        "            \n",
        "            \n",
        "    def __len__(self):\n",
        "        return self.len\n",
        "    \n",
        "    def __getitem__(self, index):        \n",
        "        if self.train:\n",
        "            X_train_file_name = self.X_train_file_names[index]\n",
        "            Y_train_file_name = self.Y_train_file_names[index]\n",
        "            x_train = self.pil_loader(self.file_path+\"/\"+X_train_file_name)\n",
        "            y_train = self.pil_loader(self.file_path+\"/\"+Y_train_file_name)\n",
        "            return self.transform_x(x_train), self.transform_y(y_train), X_train_file_name, Y_train_file_name\n",
        "        else:\n",
        "            file_name = self.X_test_file_names[index]\n",
        "            x_test = self.pil_loader(self.file_path+\"/\"+file_name)\n",
        "            return self.transform_x(x_test), file_name\n",
        "                \n",
        "    def pil_loader(self,path):\n",
        "        with open(path, 'rb') as f:\n",
        "            img = Image.open(f)\n",
        "            return img.convert('L')\n"
      ]
    },
    {
      "cell_type": "code",
      "execution_count": null,
      "metadata": {
        "id": "Ok5AMO1UsKno"
      },
      "outputs": [],
      "source": [
        "full_data = HC18Dataset(\"train\",train=True)"
      ]
    },
    {
      "cell_type": "markdown",
      "metadata": {
        "id": "oEymsb9BzbyR"
      },
      "source": [
        "#Spliting Training and Validation Set 80:20"
      ]
    },
    {
      "cell_type": "code",
      "execution_count": null,
      "metadata": {
        "id": "nlGyUq8cw7sr"
      },
      "outputs": [],
      "source": [
        "train_size = int(0.8 * len(full_data))\n",
        "test_size = len(full_data) - train_size\n",
        "\n",
        "train_data, validation_data = random_split(full_data, [train_size, test_size])"
      ]
    },
    {
      "cell_type": "code",
      "execution_count": null,
      "metadata": {
        "id": "UH2CjZe23lXb"
      },
      "outputs": [],
      "source": [
        "batch_size = 2"
      ]
    },
    {
      "cell_type": "markdown",
      "metadata": {
        "id": "vQrlBwPk33D8"
      },
      "source": [
        "\n",
        "# Load Training Data"
      ]
    },
    {
      "cell_type": "code",
      "execution_count": null,
      "metadata": {
        "id": "ne6b3Psa3oe5"
      },
      "outputs": [],
      "source": [
        "train_loader = torch.utils.data.DataLoader(train_data, batch_size=batch_size, shuffle=True)\n",
        "validation_loader = torch.utils.data.DataLoader(validation_data, batch_size=batch_size, shuffle=True)"
      ]
    },
    {
      "cell_type": "markdown",
      "metadata": {
        "id": "k_2dX7k64FW6"
      },
      "source": [
        "\n",
        "# Load Test Data"
      ]
    },
    {
      "cell_type": "code",
      "execution_count": null,
      "metadata": {
        "id": "6R2iKaVW32HH"
      },
      "outputs": [],
      "source": [
        "test_data = HC18Dataset(\"test\",train=False)\n",
        "test_loader = torch.utils.data.DataLoader(test_data, batch_size=batch_size,shuffle=False)"
      ]
    },
    {
      "cell_type": "markdown",
      "metadata": {
        "id": "L81-PwJf4YEp"
      },
      "source": [
        "\n",
        "# Show Images\n"
      ]
    },
    {
      "cell_type": "code",
      "execution_count": null,
      "metadata": {
        "id": "db0OF7Jf4Luh"
      },
      "outputs": [],
      "source": [
        "def imshow(img, title):\n",
        "    npimg = img.numpy() *0.5 + 0.5   # un-normalizing the image\n",
        "    plt.figure(figsize=(batch_size*5, 5))\n",
        "    #plt.axis('off')\n",
        "    plt.imshow(np.transpose(npimg, (1, 2, 0)))\n",
        "    plt.title(title)\n",
        "    plt.show()"
      ]
    },
    {
      "cell_type": "code",
      "execution_count": null,
      "metadata": {
        "id": "3ciHq6XK4T0C"
      },
      "outputs": [],
      "source": [
        "def show_train_batch_images(dataloader):\n",
        "    x, y, xf, yf = next(iter(dataloader))\n",
        "    x = torchvision.utils.make_grid(x)\n",
        "    y = torchvision.utils.make_grid(y)\n",
        "    imshow(x, title=[n for n in xf])\n",
        "    imshow(y, title=[n for n in yf])"
      ]
    },
    {
      "cell_type": "code",
      "execution_count": null,
      "metadata": {
        "colab": {
          "base_uri": "https://localhost:8080/"
        },
        "id": "ljSWNx1U4WHk",
        "outputId": "0f97d276-c675-4e0e-955d-612e12457a04"
      },
      "outputs": [
        {
          "data": {
            "image/png": "[encoded data removed]",
            "text/plain": [
              "<Figure size 720x360 with 1 Axes>"
            ]
          },
          "metadata": {},
          "output_type": "display_data"
        },
        {
          "data": {
            "image/png": "[encoded data removed]",
            "text/plain": [
              "<Figure size 720x360 with 1 Axes>"
            ]
          },
          "metadata": {},
          "output_type": "display_data"
        }
      ],
      "source": [
        "show_train_batch_images(validation_loader)"
      ]
    },
    {
      "cell_type": "markdown",
      "metadata": {
        "id": "fpvMPTvb4iUv"
      },
      "source": [
        "#Models"
      ]
    },
    {
      "cell_type": "code",
      "execution_count": null,
      "metadata": {
        "id": "WN5H1Y7O4my4"
      },
      "outputs": [],
      "source": [
        "class UNet(nn.Module):\n",
        "    def __init__(self): \n",
        "        super(UNet, self).__init__()\n",
        "        self.down_sample_conv_1 = self.down_sample_conv(1)\n",
        "        self.down_sample_conv_2 = self.down_sample_conv(64)\n",
        "        self.down_sample_conv_3 = self.down_sample_conv(128)\n",
        "        self.down_sample_conv_4 = self.down_sample_conv(256)\n",
        "        self.down_sample_conv_5 = self.down_sample_conv(512)\n",
        "        \n",
        "        self.upconv_4 = self.up_conv(1024)\n",
        "        self.up_sample_conv_4 = self.up_sample_conv(1024)\n",
        "        self.upconv_3 = self.up_conv(512)\n",
        "        self.up_sample_conv_3 = self.up_sample_conv(512)\n",
        "        self.upconv_2 = self.up_conv(256)\n",
        "        self.up_sample_conv_2 = self.up_sample_conv(256)\n",
        "        self.upconv_1 = self.up_conv(128)\n",
        "        self.up_sample_conv_1 = self.up_sample_conv(128)\n",
        "        \n",
        "        self.final_conv = nn.Conv2d(64, 2, kernel_size=1, stride=1, padding=0)\n",
        "    \n",
        "    def down_sample_conv(self, in_feature_maps):\n",
        "        return nn.Sequential(\n",
        "            nn.Conv2d(1, 64, kernel_size=3, stride=1, padding=1),\n",
        "            nn.ReLU(inplace=True),\n",
        "            nn.Conv2d(64, 64, kernel_size=3, stride=1, padding=1),\n",
        "            nn.ReLU(inplace=True)\n",
        "            \n",
        "        ) if in_feature_maps == 1 else nn.Sequential(\n",
        "            nn.Conv2d(in_feature_maps, 2*in_feature_maps, kernel_size=3, stride=1, padding=1),\n",
        "            nn.ReLU(inplace=True),\n",
        "            nn.Conv2d(2*in_feature_maps, 2*in_feature_maps, kernel_size=3, stride=1, padding=1),\n",
        "            nn.ReLU(inplace=True)\n",
        "            \n",
        "        )\n",
        "      \n",
        "    def down_sample(self):\n",
        "        return nn.MaxPool2d(kernel_size=2, stride=2)\n",
        "      \n",
        "    def up_sample_conv(self, in_feature_maps):\n",
        "        return nn.Sequential(\n",
        "            nn.Conv2d(in_feature_maps, int(0.5*in_feature_maps), kernel_size=3, stride=1, padding=1),\n",
        "            nn.ReLU(inplace=True),\n",
        "            nn.Conv2d(int(0.5*in_feature_maps), int(0.5*in_feature_maps), kernel_size=3, stride=1, padding=1),\n",
        "            nn.ReLU(inplace=True)\n",
        "            \n",
        "        )\n",
        "      \n",
        "    def up_conv(self, in_feature_maps):\n",
        "        return nn.ConvTranspose2d(in_feature_maps, int(0.5*in_feature_maps), kernel_size=2, stride=2, padding=0)\n",
        "      \n",
        "    def crop_concat(self, x1, x2):\n",
        "        in_width = x1.shape[-1]\n",
        "        out_width = x2.shape[-1]\n",
        "        crop_width = (in_width - out_width) // 2\n",
        "        \n",
        "        in_height = x1.shape[-2]\n",
        "        out_height = x2.shape[-2]\n",
        "        crop_height = (in_height - out_height) // 2\n",
        "        \n",
        "        x1 = x1[:, :, crop_height:(in_height-crop_height), crop_width:(in_width-crop_width)]\n",
        "        return torch.cat((x1, x2), 1)\n",
        "        \n",
        "    def forward(self, x):\n",
        "        #Downsampling or contraction\n",
        "        x1 = self.down_sample_conv_1(x)\n",
        "        #print(x1.shape)\n",
        "        x2 = self.down_sample_conv_2(self.down_sample()(x1))\n",
        "        #print(x2.shape)\n",
        "        x3 = self.down_sample_conv_3(self.down_sample()(x2))\n",
        "        #print(x3.shape)\n",
        "        x4 = self.down_sample_conv_4(self.down_sample()(x3))\n",
        "        #print(x4.shape)\n",
        "        x5 = self.down_sample_conv_5(self.down_sample()(x4))\n",
        "        #print(x5.shape)\n",
        "        #print('--------------------------------------------------\\n')\n",
        "        \n",
        "        #Upsampling or expansion\n",
        "        x4_u = self.upconv_4(x5)\n",
        "        x4_u = self.up_sample_conv_4(self.crop_concat(x4, x4_u))\n",
        "        #print(x4_u.shape)\n",
        "        x3_u = self.upconv_3(x4_u)\n",
        "        x3_u = self.up_sample_conv_3(self.crop_concat(x3, x3_u))\n",
        "        #print(x3_u.shape)\n",
        "        x2_u = self.upconv_2(x3_u)\n",
        "        x2_u = self.up_sample_conv_2(self.crop_concat(x2, x2_u))\n",
        "        #print(x2_u.shape)\n",
        "        x1_u = self.upconv_1(x2_u)\n",
        "        x1_u = self.up_sample_conv_1(self.crop_concat(x1, x1_u))\n",
        "        #print(x1_u.shape)\n",
        "        y = self.final_conv(x1_u)\n",
        "        #print(y.shape)           \n",
        "        return y"
      ]
    },
    {
      "cell_type": "code",
      "execution_count": null,
      "metadata": {
        "id": "BPaJyjN947JI"
      },
      "outputs": [],
      "source": [
        "class Channel_Attention(nn.Module):\n",
        "    '''Channel Attention in CBAM.\n",
        "    '''\n",
        "\n",
        "    def __init__(self, channel_in, reduction_ratio=16, pool_types=['avg', 'max']):\n",
        "        '''Param init and architecture building.\n",
        "        '''\n",
        "\n",
        "        super(Channel_Attention, self).__init__()\n",
        "        self.pool_types = pool_types\n",
        "\n",
        "        self.shared_mlp = nn.Sequential(\n",
        "            nn.Flatten(),\n",
        "            nn.Linear(in_features=channel_in, out_features=channel_in//reduction_ratio),\n",
        "            nn.ReLU(inplace=True),\n",
        "            nn.Linear(in_features=channel_in//reduction_ratio, out_features=channel_in)\n",
        "        )\n",
        "\n",
        "\n",
        "    def forward(self, x):\n",
        "        '''Forward Propagation.\n",
        "        '''\n",
        "\n",
        "        channel_attentions = []\n",
        "\n",
        "        for pool_types in self.pool_types:\n",
        "            if pool_types == 'avg':\n",
        "                pool_init = nn.AvgPool2d(kernel_size=(x.size(2), x.size(3)), stride=(x.size(2), x.size(3)))\n",
        "                avg_pool = pool_init(x)\n",
        "                channel_attentions.append(self.shared_mlp(avg_pool))\n",
        "            elif pool_types == 'max':\n",
        "                pool_init = nn.MaxPool2d(kernel_size=(x.size(2), x.size(3)), stride=(x.size(2), x.size(3)))\n",
        "                max_pool = pool_init(x)\n",
        "                channel_attentions.append(self.shared_mlp(max_pool))\n",
        "\n",
        "        pooling_sums = torch.stack(channel_attentions, dim=0).sum(dim=0)\n",
        "        scaled = nn.Sigmoid()(pooling_sums).unsqueeze(2).unsqueeze(3).expand_as(x)\n",
        "\n",
        "        return x * scaled #return the element-wise multiplication between the input and the result.\n",
        "\n",
        "\n",
        "class ChannelPool(nn.Module):\n",
        "    '''Merge all the channels in a feature map into two separate channels where the first channel is produced by taking the max values from all channels, while the\n",
        "       second one is produced by taking the mean from every channel.\n",
        "    '''\n",
        "    def forward(self, x):\n",
        "        return torch.cat((torch.max(x, 1)[0].unsqueeze(1), torch.mean(x, 1).unsqueeze(1)), dim=1)\n",
        "\n",
        "\n",
        "class Spatial_Attention(nn.Module):\n",
        "    '''Spatial Attention in CBAM.\n",
        "    '''\n",
        "\n",
        "    def __init__(self, kernel_size=7):\n",
        "        '''Spatial Attention Architecture.\n",
        "        '''\n",
        "\n",
        "        super(Spatial_Attention, self).__init__()\n",
        "\n",
        "        self.compress = ChannelPool()\n",
        "        self.spatial_attention = nn.Sequential(\n",
        "            nn.Conv2d(in_channels=2, out_channels=1, kernel_size=kernel_size, stride=1, dilation=1, padding=(kernel_size-1)//2, bias=False),\n",
        "            nn.BatchNorm2d(num_features=1, eps=1e-5, momentum=0.01, affine=True)\n",
        "        )\n",
        "\n",
        "\n",
        "    def forward(self, x):\n",
        "        '''Forward Propagation.\n",
        "        '''\n",
        "        x_compress = self.compress(x)\n",
        "        x_output = self.spatial_attention(x_compress)\n",
        "        scaled = nn.Sigmoid()(x_output)\n",
        "        return x * scaled\n",
        "\n",
        "\n",
        "class CBAM(nn.Module):\n",
        "    '''CBAM architecture.\n",
        "    '''\n",
        "    def __init__(self, channel_in, reduction_ratio=16, pool_types=['avg', 'max'], spatial=True):\n",
        "        '''Param init and arch build.\n",
        "        '''\n",
        "        super(CBAM, self).__init__()\n",
        "        self.spatial = spatial\n",
        "\n",
        "        self.channel_attention = Channel_Attention(channel_in=channel_in, reduction_ratio=reduction_ratio, pool_types=pool_types)\n",
        "\n",
        "        if self.spatial:\n",
        "            self.spatial_attention = Spatial_Attention(kernel_size=7)\n",
        "\n",
        "\n",
        "    def forward(self, x):\n",
        "        '''Forward Propagation.\n",
        "        '''\n",
        "        x_out = self.channel_attention(x)\n",
        "        if self.spatial:\n",
        "            x_out = self.spatial_attention(x_out)\n",
        "\n",
        "        return x_out\n",
        "\n",
        "class BottleNeck(nn.Module):\n",
        "    '''Bottleneck modules\n",
        "    '''\n",
        "\n",
        "    def __init__(self, in_channels, out_channels, expansion=4, stride=1, use_cbam=True):\n",
        "        '''Param init.\n",
        "        '''\n",
        "        super(BottleNeck, self).__init__()\n",
        "\n",
        "        self.use_cbam = use_cbam\n",
        "        #only the first conv will be affected by the given stride parameter. The rest have default stride value (which is 1).\n",
        "        self.conv1 = nn.Conv2d(in_channels=in_channels, out_channels=out_channels, kernel_size=1, bias=False, stride=stride)\n",
        "        self.bn1 = nn.BatchNorm2d(num_features=out_channels)\n",
        "        self.conv2 = nn.Conv2d(in_channels=out_channels, out_channels=out_channels, kernel_size=3, padding=1, bias=False)\n",
        "        self.bn2 = nn.BatchNorm2d(num_features=out_channels)\n",
        "        self.conv3 = nn.Conv2d(in_channels=out_channels, out_channels=out_channels*expansion, kernel_size=1, bias=False)\n",
        "        self.bn3 = nn.BatchNorm2d(num_features=out_channels*expansion)\n",
        "        self.relu = nn.ReLU(inplace=True)\n",
        "\n",
        "        #since the input has to be same size with the output during the identity mapping, whenever the stride or the number of output channels are\n",
        "        #more than 1 and expansion*out_channels respectively, the input, x, has to be downsampled to the same level as well.\n",
        "        self.identity_connection = nn.Sequential()\n",
        "        if stride != 1 or in_channels != expansion*out_channels:\n",
        "            self.identity_connection = nn.Sequential(\n",
        "                nn.Conv2d(in_channels=in_channels, out_channels=expansion*out_channels, kernel_size=1, stride=stride, bias=False),\n",
        "                nn.BatchNorm2d(num_features=out_channels*expansion)\n",
        "            )\n",
        "\n",
        "        if self.use_cbam:\n",
        "            self.cbam = CBAM(channel_in=out_channels*expansion)\n",
        "\n",
        "\n",
        "    def forward(self, x):\n",
        "        '''Forward Propagation.\n",
        "        '''\n",
        "\n",
        "        out = self.relu(self.bn1(self.conv1(x)))\n",
        "        out = self.relu(self.bn2(self.conv2(out)))\n",
        "        out = self.bn3(self.conv3(out))\n",
        "\n",
        "        if self.use_cbam:\n",
        "            out = self.cbam(out)\n",
        "\n",
        "        out += self.identity_connection(x) #identity connection/skip connection\n",
        "        out = self.relu(out)\n",
        "\n",
        "        return out\n",
        "\n",
        "\n",
        "class ResNet50(nn.Module):\n",
        "    '''ResNet-50 Architecture.\n",
        "    '''\n",
        "\n",
        "    def __init__(self, use_cbam=True, image_depth=3, num_classes=6):\n",
        "        '''Params init and build arch.\n",
        "        '''\n",
        "        super(ResNet50, self).__init__()\n",
        "\n",
        "        self.in_channels = 64\n",
        "        self.expansion = 4\n",
        "        self.num_blocks = [3, 3, 3, 2]\n",
        "\n",
        "        self.conv_block1 = nn.Sequential(nn.Conv2d(kernel_size=7, stride=2, in_channels=image_depth, out_channels=self.in_channels, padding=3, bias=False),\n",
        "                                            nn.BatchNorm2d(self.in_channels),\n",
        "                                            nn.ReLU(inplace=True),\n",
        "                                            nn.MaxPool2d(stride=2, kernel_size=3, padding=1))\n",
        "\n",
        "        self.layer1 = self.make_layer(out_channels=64, num_blocks=self.num_blocks[0], stride=1, use_cbam=use_cbam)\n",
        "        self.layer2 = self.make_layer(out_channels=128, num_blocks=self.num_blocks[1], stride=2, use_cbam=use_cbam)\n",
        "        self.layer3 = self.make_layer(out_channels=256, num_blocks=self.num_blocks[2], stride=2, use_cbam=use_cbam)\n",
        "        self.layer4 = self.make_layer(out_channels=512, num_blocks=self.num_blocks[3], stride=2, use_cbam=use_cbam)\n",
        "        self.avgpool = nn.AvgPool2d(7)\n",
        "        self.linear = nn.Linear(512*self.expansion, num_classes)\n",
        "\n",
        "\n",
        "    def make_layer(self, out_channels, num_blocks, stride, use_cbam):\n",
        "        '''To construct the bottleneck layers.\n",
        "        '''\n",
        "        strides = [stride] + [1]*(num_blocks-1)\n",
        "        layers = []\n",
        "        for stride in strides:\n",
        "            layers.append(BottleNeck(in_channels=self.in_channels, out_channels=out_channels, stride=stride, expansion=self.expansion, use_cbam=use_cbam))\n",
        "            self.in_channels = out_channels * self.expansion\n",
        "        return nn.Sequential(*layers)\n",
        "\n",
        "\n",
        "    def forward(self, x):\n",
        "        '''Forward propagation of ResNet-50.\n",
        "        '''\n",
        "\n",
        "        x = self.conv_block1(x)\n",
        "        x = self.layer1(x)\n",
        "        x = self.layer2(x)\n",
        "        x = self.layer3(x)\n",
        "        x_conv = self.layer4(x)\n",
        "        x = self.avgpool(x_conv)\n",
        "        x = nn.Flatten()(x) #flatten the feature maps.\n",
        "        x = self.linear(x)\n",
        "\n",
        "        return x_conv, x"
      ]
    },
    {
      "cell_type": "markdown",
      "metadata": {
        "id": "fJ5eSVU0LEZ1"
      },
      "source": [
        "#Training and Validation"
      ]
    },
    {
      "cell_type": "code",
      "execution_count": null,
      "metadata": {
        "id": "X9EhzMsoLK22"
      },
      "outputs": [],
      "source": [
        "def train(epoch):\n",
        "    \n",
        "    model.train()\n",
        "    \n",
        "    for batch_id, data in enumerate(train_loader):\n",
        "        inputs, targets, _, _ = data               \n",
        "        \n",
        "        tragets = torch.ceil(targets)     \n",
        "        inputs = inputs.to(device)\n",
        "        targets = targets.to(device)\n",
        "        targets = targets.view(targets.shape[0], targets.shape[2], targets.shape[3]).long()\n",
        "                \n",
        "        opt.zero_grad()\n",
        "        outputs = model(inputs)\n",
        "        loss = loss_fn(outputs, targets)\n",
        "        loss.backward()\n",
        "        opt.step()\n",
        "        \n",
        "        if batch_id % args.log_interval == 0:\n",
        "            #pos = epoch * len(train_loader) + batch_id\n",
        "            #mlflow.log_metric('train_loss', loss.data.item())            \n",
        "            print('Train Epoch: {} [{}/{} ({:.0f}%)]\\tLoss: {:.3f}'.format(\n",
        "                epoch, batch_id * len(inputs), len(train_loader.dataset),\n",
        "                100. * batch_id / len(train_loader), loss.data.item()))\n",
        "        \n",
        "        del inputs, targets, outputs, loss\n",
        "        torch.cuda.empty_cache()"
      ]
    },
    {
      "cell_type": "code",
      "execution_count": null,
      "metadata": {
        "id": "r18xAvDIM8HY"
      },
      "outputs": [],
      "source": [
        "def validate(epoch):\n",
        "    \n",
        "    model.eval()\n",
        "    validation_loss = 0\n",
        "    \n",
        "    with torch.no_grad():\n",
        "        \n",
        "        for inputs, targets, _, _ in validation_loader:\n",
        "          \n",
        "            tragets = torch.ceil(targets)\n",
        "            inputs = inputs.to(device)\n",
        "            targets = targets.to(device)\n",
        "            targets = targets.view(targets.shape[0], targets.shape[2], targets.shape[3]).long()\n",
        "            \n",
        "            outputs = model(inputs)\n",
        "            loss = loss_fn(outputs, targets)\n",
        "            validation_loss += loss.data.item()        \n",
        "            \n",
        "            del inputs, targets, outputs\n",
        "            torch.cuda.empty_cache()\n",
        "            \n",
        "        validation_loss /= len(validation_loader.dataset)\n",
        "        \n",
        "        #pos = (epoch + 1) * len(train_loader)\n",
        "        #mlflow.log_metric('validation_loss', validation_loss)\n",
        "        \n",
        "        print('\\nEpoch: {}, Validation set: Average loss: {:.4f}\\n'.\n",
        "              format(epoch, validation_loss))  \n",
        "        \n",
        "        return validation_loss\n"
      ]
    },
    {
      "cell_type": "code",
      "execution_count": null,
      "metadata": {
        "id": "BrV6N0FmOB-d"
      },
      "outputs": [],
      "source": [
        "class Params(object):\n",
        "    def __init__(self, batch_size, epochs, seed, log_interval):\n",
        "        self.batch_size = batch_size\n",
        "        self.epochs = epochs\n",
        "        self.seed = seed\n",
        "        self.log_interval = log_interval\n",
        "\n",
        "args = Params(batch_size, 10, 0, 15)"
      ]
    },
    {
      "cell_type": "code",
      "execution_count": null,
      "metadata": {
        "id": "GJaLHhyY6o8X"
      },
      "outputs": [],
      "source": [
        "best_model = None"
      ]
    },
    {
      "cell_type": "code",
      "execution_count": null,
      "metadata": {
        "id": "DeCmquYa0Md-"
      },
      "outputs": [],
      "source": [
        "# !rm -r mlruns"
      ]
    },
    {
      "cell_type": "markdown",
      "metadata": {
        "id": "PLMgldaZ-SCu"
      },
      "source": [
        "#Training Starts"
      ]
    },
    {
      "cell_type": "code",
      "execution_count": null,
      "metadata": {
        "id": "T5NDx8-SOUCo"
      },
      "outputs": [],
      "source": [
        "expt_name = 'HC18_CrossEntropy_B1'\n",
        "# expt_id = mlflow.create_experiment(expt_name)\n",
        "\n",
        "mlflow.set_experiment(expt_name)\n",
        "\n",
        "lr = 0.015\n",
        "momentum = 0.9\n",
        "\n",
        "expt_id = '%d_%d' % (int(lr*1000), int(momentum*1000))\n",
        "\n",
        "print('\\nLR = %.3f, Momentum = %.3f\\n' % (lr, momentum))\n",
        "\n",
        "if best_model:\n",
        "    model.load_state_dict(best_model)\n",
        "else:\n",
        "    min_validation_loss = np.inf\n",
        "    torch.manual_seed(args.seed)\n",
        "    model = UNet()\n",
        "    model.to(device)\n",
        "\n",
        "loss_fn = nn.CrossEntropyLoss()\n",
        "opt = optim.SGD(model.parameters(), lr=lr, momentum = momentum, nesterov=True)\n",
        "\n",
        "with mlflow.start_run(nested=True) as run:                \n",
        "    for key, value in vars(args).items():\n",
        "        mlflow.log_param(key, value)\n",
        "    mlflow.log_param('lr', lr)\n",
        "    mlflow.log_param('momentum', momentum)\n",
        "\n",
        "    for epoch in tqdm_notebook(range(1, args.epochs + 1), total=args.epochs, unit=\"epoch\"):\n",
        "        train(epoch)\n",
        "        validation_loss = validate(epoch)\n",
        "\n",
        "        if validation_loss < min_validation_loss:\n",
        "            min_validation_loss = validation_loss\n",
        "            best_model = copy.deepcopy(model.state_dict())            \n",
        "\n",
        "        print(\"Minimun validation loss so far: {:.3f}\\n\\n\".format(min_validation_loss))   \n",
        "        \n",
        "    model.load_state_dict(best_model)\n",
        "    mlflow.pytorch.log_model(model, \"models\")\n",
        "    "
      ]
    },
    {
      "cell_type": "code",
      "execution_count": null,
      "metadata": {
        "id": "A6yCT9MUklLS"
      },
      "outputs": [],
      "source": [
        "!tar -czvf /content/mlruns.tar.gz /content/mlruns/596802815950690740/9e20ba662f3649338c501d795e316da3"
      ]
    },
    {
      "cell_type": "code",
      "execution_count": null,
      "metadata": {
        "id": "aoeqolvnKhAL"
      },
      "outputs": [],
      "source": [
        "!zip -r 'mlruns.zip' '/content/mlruns'"
      ]
    },
    {
      "cell_type": "code",
      "execution_count": null,
      "metadata": {
        "colab": {
          "base_uri": "https://localhost:8080/"
        },
        "id": "ZX89wJfcSzPU",
        "outputId": "8ae11d66-fa8f-4549-de69-46dcae947282"
      },
      "outputs": [
        {
          "name": "stderr",
          "output_type": "stream",
          "text": [
            "2022/12/11 17:44:15 WARNING mlflow.utils.requirements_utils: Found torch version (1.13.0+cu116) contains a local version label (+cu116). MLflow logged a pip requirement for this package as 'torch==1.13.0' without the local version label to make it installable from PyPI. To specify pip requirements containing local version labels, please use `conda_env` or `pip_requirements`.\n"
          ]
        },
        {
          "data": {
            "text/plain": [
              "['torch==1.13.0', 'cloudpickle==1.5.0']"
            ]
          },
          "execution_count": 39,
          "metadata": {},
          "output_type": "execute_result"
        }
      ],
      "source": [
        "mlflow.pytorch.get_default_pip_requirements()\n"
      ]
    },
    {
      "cell_type": "code",
      "execution_count": null,
      "metadata": {
        "colab": {
          "base_uri": "https://localhost:8080/"
        },
        "id": "il9fsH0JUnvT",
        "outputId": "76b4f026-b4f8-4dec-dfc7-b22b76517a09"
      },
      "outputs": [
        {
          "data": {
            "text/plain": [
              "False"
            ]
          },
          "execution_count": 50,
          "metadata": {},
          "output_type": "execute_result"
        }
      ],
      "source": [
        "torch.cuda.is_available()"
      ]
    },
    {
      "cell_type": "code",
      "execution_count": null,
      "metadata": {
        "id": "mbVbr5sPH5NZ"
      },
      "outputs": [],
      "source": [
        "if torch.cuda.is_available():\n",
        "    model = mlflow.pytorch.load_model('mlruns/596802815950690740/9e20ba662f3649338c501d795e316da3/artifacts/models')\n",
        "else:\n",
        "    model = mlflow.pytorch.load_model('mlruns/596802815950690740/9e20ba662f3649338c501d795e316da3/artifacts/models',  map_location=torch.device('cpu'))\n"
      ]
    },
    {
      "cell_type": "code",
      "execution_count": null,
      "metadata": {
        "id": "-9ZqGP7iMilc"
      },
      "outputs": [],
      "source": [
        "best_model = copy.deepcopy(model.state_dict())"
      ]
    },
    {
      "cell_type": "code",
      "execution_count": null,
      "metadata": {
        "id": "NrlGVHhgXZE6"
      },
      "outputs": [],
      "source": [
        "print(best_model)"
      ]
    },
    {
      "cell_type": "code",
      "execution_count": null,
      "metadata": {
        "colab": {
          "background_save": true
        },
        "id": "b8-aa2Ap9kpD",
        "outputId": "ad4fb11f-1a2e-4b10-a0c9-1aac60e210dd"
      },
      "outputs": [
        {
          "name": "stdout",
          "output_type": "stream",
          "text": [
            "\n",
            "Epoch: 1, Validation set: Average loss: 0.2731\n",
            "\n"
          ]
        }
      ],
      "source": [
        "loss_fn = nn.CrossEntropyLoss()\n",
        "min_validation_loss = validate(1)"
      ]
    },
    {
      "cell_type": "markdown",
      "metadata": {
        "id": "kg3DVjb-Fzni"
      },
      "source": [
        "#Dice coefficient"
      ]
    },
    {
      "cell_type": "code",
      "execution_count": null,
      "metadata": {
        "id": "wlYOK01CFy5t"
      },
      "outputs": [],
      "source": [
        "def dice_coeff(predicts, targets):\n",
        "    #predicts and targets are of the size: batch x channel x height x width\n",
        "    \n",
        "    smooth = 1\n",
        "    num = targets.size(0)\n",
        "    m1 = predicts.view(num, -1)\n",
        "    m2 = targets.view(num, -1)\n",
        "    intersection = (m1 * m2)\n",
        "\n",
        "    score = 2. * (intersection.sum(1) + smooth) / (m1.sum(1) + m2.sum(1) + smooth)\n",
        "    score = score.sum() / num\n",
        "    return score.item()"
      ]
    },
    {
      "cell_type": "code",
      "execution_count": null,
      "metadata": {
        "id": "PqSpntYeIFc7"
      },
      "outputs": [],
      "source": [
        "def avg_dice_coeff(dataloader):\n",
        "  \n",
        "    model.to(device)\n",
        "    model.eval()\n",
        "    \n",
        "    diceCoeff = 0\n",
        "    \n",
        "    with torch.no_grad():\n",
        "    \n",
        "        for inputs, targets, _, _ in dataloader:\n",
        "        \n",
        "            tragets = torch.ceil(targets)\n",
        "            inputs = inputs.to(device)\n",
        "            targets = targets.to(device)\n",
        "            \n",
        "            outputs = model(inputs)\n",
        "            outputs = outputs.argmax(1).float()\n",
        "            \n",
        "            height, width = outputs.shape[1:]\n",
        "            \n",
        "            for output, target in zip(outputs, targets):\n",
        "                diceCoeff += dice_coeff(output.view(1, 1, height, width), \n",
        "                                        target.view(1, 1, height, width))\n",
        "                \n",
        "            del inputs, tragets, outputs\n",
        "            torch.cuda.empty_cache()\n",
        "            \n",
        "    diceCoeff /= len(dataloader.dataset)\n",
        "    return diceCoeff"
      ]
    },
    {
      "cell_type": "code",
      "execution_count": null,
      "metadata": {
        "colab": {
          "base_uri": "https://localhost:8080/"
        },
        "id": "UH8NEXkvfuFz",
        "outputId": "7de11ef3-3057-4c71-93cc-79af426ade73"
      },
      "outputs": [
        {
          "data": {
            "text/plain": [
              "0.07919018755033602"
            ]
          },
          "execution_count": 37,
          "metadata": {},
          "output_type": "execute_result"
        }
      ],
      "source": [
        "avg_dice_coeff(train_loader)"
      ]
    },
    {
      "cell_type": "code",
      "execution_count": null,
      "metadata": {
        "colab": {
          "base_uri": "https://localhost:8080/"
        },
        "id": "hHY16Yz7jebZ",
        "outputId": "5fe321c3-4c30-4a7d-fce0-eda533811467"
      },
      "outputs": [
        {
          "data": {
            "text/plain": [
              "0.08220119120018353"
            ]
          },
          "execution_count": 38,
          "metadata": {},
          "output_type": "execute_result"
        }
      ],
      "source": [
        "avg_dice_coeff(validation_loader)"
      ]
    }
  ],
  "metadata": {
    "accelerator": "GPU",
    "colab": {
      "collapsed_sections": [
        "oEymsb9BzbyR",
        "vQrlBwPk33D8",
        "k_2dX7k64FW6",
        "L81-PwJf4YEp",
        "fpvMPTvb4iUv",
        "fJ5eSVU0LEZ1",
        "kg3DVjb-Fzni"
      ],
      "provenance": [],
      "include_colab_link": true
    },
    "gpuClass": "standard",
    "kernelspec": {
      "display_name": "Python 3",
      "name": "python3"
    },
    "language_info": {
      "name": "python"
    }
  },
  "nbformat": 4,
  "nbformat_minor": 0
}